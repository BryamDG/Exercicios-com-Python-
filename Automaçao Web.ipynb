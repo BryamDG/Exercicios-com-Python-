{
 "cells": [
  {
   "cell_type": "code",
   "execution_count": null,
   "id": "4772db27",
   "metadata": {},
   "outputs": [],
   "source": []
  },
  {
   "cell_type": "code",
   "execution_count": null,
   "id": "3b5c7e68",
   "metadata": {},
   "outputs": [],
   "source": []
  },
  {
   "cell_type": "code",
   "execution_count": 28,
   "id": "b23880d3",
   "metadata": {},
   "outputs": [],
   "source": [
    "from tkinter import *\n",
    "\n",
    "#def exibir_mensagem():\n",
    "#   texto_mensagem[\"text\"] = \"Funcionou!!!!\"\n",
    "\n",
    "import pyperclip\n",
    "import pyautogui\n",
    "import time \n",
    "from tkinter import *\n",
    "\n",
    "def mensagem_automatica():\n",
    "    destinatario = \"bryam.info@gmail.com\"\n",
    "    assunto = \"Automação Web\"\n",
    "    mensagem = \"Teste de mensagem utilizando automação web\"\n",
    "    pyautogui.PAUSE=2\n",
    "    pyautogui.press (\"win\")\n",
    "    pyautogui.write (\"google\")\n",
    "    pyautogui.press (\"enter\")\n",
    "    pyautogui.click (x=900, y=70)\n",
    "    pyperclip.copy(\"www.outlook.com\")\n",
    "    pyautogui.hotkey(\"ctrl\",\"v\")\n",
    "    pyautogui.press(\"enter\")\n",
    "    time.sleep (2)\n",
    "    pyautogui.click(x=264, y=267)\n",
    "    time.sleep (2)\n",
    "    pyautogui.click(x=895, y=350)\n",
    "    time.sleep (2)\n",
    "    pyautogui.click(x=894, y=351)\n",
    "    time.sleep (2)\n",
    "    pyperclip.copy(destinatario)\n",
    "    pyautogui.hotkey(\"ctrl\",\"v\")\n",
    "    pyautogui.press(\"tab\")\n",
    "    pyperclip.copy(assunto)\n",
    "    pyautogui.hotkey(\"ctrl\",\"v\")\n",
    "    pyautogui.press(\"tab\")\n",
    "    pyperclip.copy(mensagem)\n",
    "    pyautogui.hotkey(\"ctrl\",\"v\")\n",
    "    pyautogui.click(x=510, y=900)\n",
    "    pyautogui.hotkey(\"ctrl\",\"f4\")\n",
    "    time.sleep (2)\n",
    "    texto_mensagem.config(text=\"Email enviado com sucesso!!\")\n",
    "    \n",
    "janela = Tk()\n",
    "janela.title(\"teste de interface gráfica\")\n",
    "text_orientacao = Label(janela, text=\"Clique aqui para começar a rodar o programa de automação Web.\")\n",
    "text_orientacao.grid(column=0, row=0, padx=10, pady=10)\n",
    "\n",
    "botao = Button(janela, text=\"Enviar mensagem\", command=mensagem_automatica)\n",
    "botao.grid(column=0, row=1, padx=10, pady=10)\n",
    "\n",
    "texto_mensagem = Label(janela, text=\"\")\n",
    "texto_mensagem.grid(column=0, row=2, padx=10, pady=10)\n",
    "\n",
    "janela.mainloop()\n"
   ]
  },
  {
   "cell_type": "code",
   "execution_count": null,
   "id": "eaab0f14",
   "metadata": {},
   "outputs": [],
   "source": []
  },
  {
   "cell_type": "code",
   "execution_count": null,
   "id": "068d0ad7",
   "metadata": {},
   "outputs": [],
   "source": []
  },
  {
   "cell_type": "code",
   "execution_count": null,
   "id": "6596d396",
   "metadata": {},
   "outputs": [],
   "source": []
  },
  {
   "cell_type": "code",
   "execution_count": null,
   "id": "78c1becb",
   "metadata": {},
   "outputs": [],
   "source": []
  }
 ],
 "metadata": {
  "kernelspec": {
   "display_name": "Python 3 (ipykernel)",
   "language": "python",
   "name": "python3"
  },
  "language_info": {
   "codemirror_mode": {
    "name": "ipython",
    "version": 3
   },
   "file_extension": ".py",
   "mimetype": "text/x-python",
   "name": "python",
   "nbconvert_exporter": "python",
   "pygments_lexer": "ipython3",
   "version": "3.9.13"
  }
 },
 "nbformat": 4,
 "nbformat_minor": 5
}
